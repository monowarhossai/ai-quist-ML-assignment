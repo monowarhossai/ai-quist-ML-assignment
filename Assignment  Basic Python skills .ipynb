{
 "cells": [
  {
   "cell_type": "markdown",
   "id": "9a09819e",
   "metadata": {},
   "source": [
    "# Qn:1.Take values of the length & breadth of a rectangle from user input and check if it is square or not.\n"
   ]
  },
  {
   "cell_type": "code",
   "execution_count": null,
   "id": "44c7a8a2",
   "metadata": {},
   "outputs": [],
   "source": [
    "length= float(input(20:))\n",
    "breadth= float(input(20:)) \n",
    "if length == breadth:\n",
    "    print(\"The rectangle is a square.\")"
   ]
  },
  {
   "cell_type": "code",
   "execution_count": null,
   "id": "6a0cec7b",
   "metadata": {},
   "outputs": [],
   "source": [
    "length= float(input(20:))\n",
    "breadth= float(input(10:))\n",
    "if length == breadth:\n",
    "     else:\n",
    "        print(\"The rectangle is not a square\")"
   ]
  },
  {
   "cell_type": "markdown",
   "id": "7d856689",
   "metadata": {},
   "source": [
    "# Qn:2. Take three integer values from the user and print the greatest among them."
   ]
  },
  {
   "cell_type": "code",
   "execution_count": 1,
   "id": "f7bb5e05",
   "metadata": {},
   "outputs": [
    {
     "name": "stdout",
     "output_type": "stream",
     "text": [
      "300 is the greatest.\n"
     ]
    }
   ],
   "source": [
    "x=100\n",
    "y=200\n",
    "z=300\n",
    "if x>y and x>z:\n",
    "    print(x, 'is the greatest.')\n",
    "elif y>x and y>z:\n",
    "      print(y, \"is the greatest.\")\n",
    "else:\n",
    "    print(z, \"is the greatest.\")"
   ]
  },
  {
   "cell_type": "markdown",
   "id": "78341aeb",
   "metadata": {},
   "source": [
    "# Qn: 3.A student will not be allowed to sit in an exam if his/her attendance is less than 75%."
   ]
  },
  {
   "cell_type": "code",
   "execution_count": 30,
   "id": "ff816cde",
   "metadata": {},
   "outputs": [
    {
     "name": "stdout",
     "output_type": "stream",
     "text": [
      "The student is can to sit for the exam.\n"
     ]
    }
   ],
   "source": [
    "def can_sit_in_exam(attendance_percentage): \n",
    "      if attendance_percentage >= 75:\n",
    "        return True \n",
    "      else:\n",
    "        return False\n",
    "    \n",
    "total_classes = '50'\n",
    "attended_classes = '17'\n",
    "\n",
    "if (total_classes, attended_classes):\n",
    "    print(\"The student is can to sit for the exam.\")\n",
    "else:\n",
    "    print(\"The student is can not to sit for the exam.\")\n"
   ]
  },
  {
   "cell_type": "code",
   "execution_count": null,
   "id": "3ae64b31",
   "metadata": {},
   "outputs": [],
   "source": []
  },
  {
   "cell_type": "markdown",
   "id": "9fb63f86",
   "metadata": {},
   "source": [
    "# 4. A school has the following rules for the grading system:\n",
    "Below 25 – F, 25 to 44 – E, 45 to 49 – D, 50 to 59 – C, 60 to 79 – B, 80 to 89 - A, Above 90 - A+\n",
    "Now, Ask the user to enter marks and print the corresponding grade."
   ]
  },
  {
   "cell_type": "code",
   "execution_count": 63,
   "id": "2cff9626",
   "metadata": {},
   "outputs": [
    {
     "name": "stdout",
     "output_type": "stream",
     "text": [
      "enter your marks:89\n",
      "your grade is: A\n"
     ]
    }
   ],
   "source": [
    "marks = float(input(\"enter your marks:\"))\n",
    "if marks <25:\n",
    "    grade= 'F'\n",
    "elif marks >=25 and marks <45:\n",
    "    grade= 'E'\n",
    "elif marks >=45 and marks <50:\n",
    "    grade= 'D'\n",
    "elif marks >=50 and marks <60:\n",
    "    grade=  'C'\n",
    "elif marks >=60 and marks <80:\n",
    "    grade= 'B'\n",
    "elif marks >=80 and marks  <90:\n",
    "    grade= 'A'\n",
    "else:\n",
    "      grade= 'A+'\n",
    "print('your grade is:',grade)"
   ]
  },
  {
   "cell_type": "code",
   "execution_count": null,
   "id": "255b85b3",
   "metadata": {},
   "outputs": [],
   "source": []
  },
  {
   "cell_type": "markdown",
   "id": "141ec5c3",
   "metadata": {},
   "source": [
    "# Qn:5.Print the following pattern using for and while loop."
   ]
  },
  {
   "cell_type": "code",
   "execution_count": 111,
   "id": "d654cbc2",
   "metadata": {},
   "outputs": [
    {
     "ename": "SyntaxError",
     "evalue": "invalid syntax (2978382942.py, line 2)",
     "output_type": "error",
     "traceback": [
      "\u001b[1;36m  File \u001b[1;32m\"C:\\Users\\hp\\AppData\\Local\\Temp\\ipykernel_15392\\2978382942.py\"\u001b[1;36m, line \u001b[1;32m2\u001b[0m\n\u001b[1;33m    print((1 2 3 4 5 6 7),\u001b[0m\n\u001b[1;37m             ^\u001b[0m\n\u001b[1;31mSyntaxError\u001b[0m\u001b[1;31m:\u001b[0m invalid syntax\n"
     ]
    }
   ],
   "source": [
    "for x in range(15): #using for loop\n",
    "    print((1 2 3 4 5 6 7),\n",
    "(1 2 3 4 5 6),\n",
    "(1 2 3 4 5),\n",
    "(1 2 3 4))"
   ]
  },
  {
   "cell_type": "markdown",
   "id": "a705f673",
   "metadata": {},
   "source": [
    "# Qn:6. Display numbers from -100 to -10 using for loop."
   ]
  },
  {
   "cell_type": "code",
   "execution_count": 2,
   "id": "c563ed5d",
   "metadata": {},
   "outputs": [
    {
     "name": "stdout",
     "output_type": "stream",
     "text": [
      "-100 -99 -98 -97 -96 -95 -94 -93 -92 -91 -90 -89 -88 -87 -86 -85 -84 -83 -82 -81 -80 -79 -78 -77 -76 -75 -74 -73 -72 -71 -70 -69 -68 -67 -66 -65 -64 -63 -62 -61 -60 -59 -58 -57 -56 -55 -54 -53 -52 -51 -50 -49 -48 -47 -46 -45 -44 -43 -42 -41 -40 -39 -38 -37 -36 -35 -34 -33 -32 -31 -30 -29 -28 -27 -26 -25 -24 -23 -22 -21 -20 -19 -18 -17 -16 -15 -14 -13 -12 -11 -10 "
     ]
    }
   ],
   "source": [
    "for i in range(-100, -9):\n",
    "    print(i,end= \" \")\n",
    "   \n"
   ]
  },
  {
   "cell_type": "markdown",
   "id": "8c3d8ac6",
   "metadata": {},
   "source": [
    "# Qn:7. Write a program to sum all prime numbers\n",
    "#within a range of 10 to 1000."
   ]
  },
  {
   "cell_type": "code",
   "execution_count": 135,
   "id": "a670f529",
   "metadata": {},
   "outputs": [
    {
     "name": "stdout",
     "output_type": "stream",
     "text": [
      "Sum of all prime numbers between 10 and 1000: 76110\n"
     ]
    }
   ],
   "source": [
    "print(\"Sum of all prime numbers between 10 and 1000:\", sum_primes(10, 1000))"
   ]
  },
  {
   "cell_type": "code",
   "execution_count": 132,
   "id": "ca6e6979",
   "metadata": {},
   "outputs": [
    {
     "name": "stdout",
     "output_type": "stream",
     "text": [
      "Sum of all prime numbers between 10 and 1000: 76110\n"
     ]
    }
   ],
   "source": [
    "def is_prime(n):\n",
    "    \"\"\"Check if a number is prime.\"\"\"\n",
    "    if n < 2:\n",
    "        return False\n",
    "    for i in range(2, int(n**0.5)+1):\n",
    "        if n % i == 0:\n",
    "            return False\n",
    "    return True\n",
    "\n",
    "def sum_primes(start, end):\n",
    "    \"\"\"Sum all prime numbers within a range.\"\"\"\n",
    "    prime_sum = 0\n",
    "    for num in range(start, end+1):\n",
    "        if is_prime(num):\n",
    "            prime_sum += num\n",
    "    return prime_sum\n",
    "\n",
    "print(\"Sum of all prime numbers between 10 and 1000:\", sum_primes(10, 1000))\n"
   ]
  },
  {
   "cell_type": "code",
   "execution_count": null,
   "id": "6eacda32",
   "metadata": {},
   "outputs": [],
   "source": []
  },
  {
   "cell_type": "markdown",
   "id": "fdecbe30",
   "metadata": {},
   "source": [
    "# Qn:8. Find the factorial of an n!\n",
    "(Hint, n=7: 7*6*5*4*3*2*1)."
   ]
  },
  {
   "cell_type": "code",
   "execution_count": 130,
   "id": "025a35fe",
   "metadata": {},
   "outputs": [
    {
     "name": "stdout",
     "output_type": "stream",
     "text": [
      "5040\n"
     ]
    }
   ],
   "source": [
    "n = 7\n",
    "factorial = 1\n",
    "\n",
    "for i in range(1, n+1):\n",
    "    factorial *= i\n",
    "\n",
    "print(factorial) \n",
    "#this is not clear solution by chatgpt. "
   ]
  },
  {
   "cell_type": "code",
   "execution_count": null,
   "id": "06986e91",
   "metadata": {},
   "outputs": [],
   "source": []
  },
  {
   "cell_type": "code",
   "execution_count": null,
   "id": "4d93c51b",
   "metadata": {},
   "outputs": [],
   "source": []
  },
  {
   "cell_type": "markdown",
   "id": "b07e908f",
   "metadata": {},
   "source": [
    "# Qn:9. Reverse a given integer number 27956240710."
   ]
  },
  {
   "cell_type": "code",
   "execution_count": 122,
   "id": "d99cccee",
   "metadata": {},
   "outputs": [],
   "source": [
    "num=27956240710"
   ]
  },
  {
   "cell_type": "code",
   "execution_count": 123,
   "id": "6b34dd3e",
   "metadata": {},
   "outputs": [
    {
     "data": {
      "text/plain": [
       "'27956240710'"
      ]
     },
     "execution_count": 123,
     "metadata": {},
     "output_type": "execute_result"
    }
   ],
   "source": [
    "str('27956240710')"
   ]
  },
  {
   "cell_type": "code",
   "execution_count": 124,
   "id": "9755c39c",
   "metadata": {},
   "outputs": [
    {
     "data": {
      "text/plain": [
       "'01704265972'"
      ]
     },
     "execution_count": 124,
     "metadata": {},
     "output_type": "execute_result"
    }
   ],
   "source": [
    "num_str[::-1]"
   ]
  },
  {
   "cell_type": "code",
   "execution_count": 125,
   "id": "87e15d80",
   "metadata": {},
   "outputs": [
    {
     "data": {
      "text/plain": [
       "1704265972"
      ]
     },
     "execution_count": 125,
     "metadata": {},
     "output_type": "execute_result"
    }
   ],
   "source": [
    "int(reversed_str)"
   ]
  },
  {
   "cell_type": "code",
   "execution_count": null,
   "id": "9c74d959",
   "metadata": {},
   "outputs": [],
   "source": []
  },
  {
   "cell_type": "markdown",
   "id": "dcb0d775",
   "metadata": {},
   "source": [
    "# Qn:11. Display the Fibonacci series of 15 elements using the for and while loop."
   ]
  },
  {
   "cell_type": "code",
   "execution_count": 108,
   "id": "fa87532e",
   "metadata": {},
   "outputs": [
    {
     "name": "stdout",
     "output_type": "stream",
     "text": [
      "x =  0\n",
      "x =  1\n",
      "x =  2\n",
      "x =  3\n",
      "x =  4\n",
      "x =  5\n",
      "x =  6\n",
      "x =  7\n",
      "x =  8\n",
      "x =  9\n",
      "x =  10\n",
      "x =  11\n",
      "x =  12\n",
      "x =  13\n",
      "x =  14\n"
     ]
    }
   ],
   "source": [
    "for x in range(15): #using for loop\n",
    "    print('x = ', x)"
   ]
  },
  {
   "cell_type": "code",
   "execution_count": 109,
   "id": "76477237",
   "metadata": {},
   "outputs": [
    {
     "name": "stdout",
     "output_type": "stream",
     "text": [
      "hello world 0\n",
      "hello world 1\n",
      "hello world 2\n",
      "hello world 3\n",
      "hello world 4\n",
      "hello world 5\n",
      "hello world 6\n",
      "hello world 7\n",
      "hello world 8\n",
      "hello world 9\n",
      "hello world 10\n",
      "hello world 11\n",
      "hello world 12\n",
      "hello world 13\n",
      "hello world 14\n"
     ]
    }
   ],
   "source": [
    "#while\n",
    "i = 0\n",
    "while i<15:\n",
    "    print('hello world',i)\n",
    "    i = i+1"
   ]
  },
  {
   "cell_type": "code",
   "execution_count": null,
   "id": "8140aa90",
   "metadata": {},
   "outputs": [],
   "source": []
  },
  {
   "cell_type": "markdown",
   "id": "e6f03569",
   "metadata": {},
   "source": [
    "# Qn:12. Remove 2 and add 3 to the list and replace True with False.\n",
    "Li = [1,3,5, [2,3], True]\n",
    "Output = [1,3,5, [3,3], False]"
   ]
  },
  {
   "cell_type": "code",
   "execution_count": 97,
   "id": "1d42f3ab",
   "metadata": {},
   "outputs": [],
   "source": [
    "Li = [1,3,5, [2,3], True] "
   ]
  },
  {
   "cell_type": "code",
   "execution_count": null,
   "id": "10e599e4",
   "metadata": {},
   "outputs": [],
   "source": [
    "## Remove 2 and add 3"
   ]
  },
  {
   "cell_type": "code",
   "execution_count": null,
   "id": "bc31c231",
   "metadata": {},
   "outputs": [],
   "source": [
    "li.remove(2)"
   ]
  },
  {
   "cell_type": "code",
   "execution_count": null,
   "id": "6df77f19",
   "metadata": {},
   "outputs": [],
   "source": [
    "li.append(3)"
   ]
  },
  {
   "cell_type": "code",
   "execution_count": null,
   "id": "02cbca89",
   "metadata": {},
   "outputs": [],
   "source": [
    "# Replace True with False"
   ]
  },
  {
   "cell_type": "code",
   "execution_count": 103,
   "id": "b4999ae4",
   "metadata": {},
   "outputs": [],
   "source": [
    "li[4]=False"
   ]
  },
  {
   "cell_type": "code",
   "execution_count": 107,
   "id": "e614051c",
   "metadata": {},
   "outputs": [
    {
     "name": "stdout",
     "output_type": "stream",
     "text": [
      "[1, 3, 5, [2, 3], True]\n"
     ]
    }
   ],
   "source": [
    "print(Li)"
   ]
  },
  {
   "cell_type": "code",
   "execution_count": null,
   "id": "99bd4938",
   "metadata": {},
   "outputs": [],
   "source": []
  },
  {
   "cell_type": "markdown",
   "id": "9d67f1b8",
   "metadata": {},
   "source": [
    "# Qn:13. Find the intersection (common) of two sets.\n",
    "S1 = {1,4,6,8}\n",
    "S2 = {True, 1,2,10}"
   ]
  },
  {
   "cell_type": "code",
   "execution_count": null,
   "id": "7818792c",
   "metadata": {},
   "outputs": [],
   "source": [
    "S1 = {1,4,6,8} "
   ]
  },
  {
   "cell_type": "code",
   "execution_count": null,
   "id": "8ed02e78",
   "metadata": {},
   "outputs": [],
   "source": [
    "S2 = {True, 1,2,10}"
   ]
  },
  {
   "cell_type": "code",
   "execution_count": null,
   "id": "a3e78e09",
   "metadata": {},
   "outputs": [],
   "source": [
    "S1.intersection(S2)"
   ]
  },
  {
   "cell_type": "code",
   "execution_count": null,
   "id": "36cf7e92",
   "metadata": {},
   "outputs": [],
   "source": [
    "{1}"
   ]
  },
  {
   "cell_type": "markdown",
   "id": "e1c69f31",
   "metadata": {},
   "source": [
    "# Qn:14. Input a list from the user then Remove duplicates from a list and create a set and find the max number.\n",
    "#User_input = [1,9,3,4,5,200,54]"
   ]
  },
  {
   "cell_type": "code",
   "execution_count": 37,
   "id": "d6feda3c",
   "metadata": {},
   "outputs": [],
   "source": [
    "li=[1,9,3,4,5,200,54]"
   ]
  },
  {
   "cell_type": "code",
   "execution_count": 38,
   "id": "5d9878cf",
   "metadata": {},
   "outputs": [
    {
     "data": {
      "text/plain": [
       "[1, 9, 3, 4, 5, 200, 54]"
      ]
     },
     "execution_count": 38,
     "metadata": {},
     "output_type": "execute_result"
    }
   ],
   "source": [
    "li"
   ]
  },
  {
   "cell_type": "code",
   "execution_count": 39,
   "id": "241c5bca",
   "metadata": {},
   "outputs": [
    {
     "data": {
      "text/plain": [
       "1"
      ]
     },
     "execution_count": 39,
     "metadata": {},
     "output_type": "execute_result"
    }
   ],
   "source": [
    "li[0]"
   ]
  },
  {
   "cell_type": "code",
   "execution_count": 40,
   "id": "b50f4f86",
   "metadata": {},
   "outputs": [
    {
     "data": {
      "text/plain": [
       "3"
      ]
     },
     "execution_count": 40,
     "metadata": {},
     "output_type": "execute_result"
    }
   ],
   "source": [
    "li[2]"
   ]
  },
  {
   "cell_type": "code",
   "execution_count": 41,
   "id": "dd154493",
   "metadata": {},
   "outputs": [
    {
     "data": {
      "text/plain": [
       "200"
      ]
     },
     "execution_count": 41,
     "metadata": {},
     "output_type": "execute_result"
    }
   ],
   "source": [
    "li[5]"
   ]
  },
  {
   "cell_type": "code",
   "execution_count": 42,
   "id": "1f797d2c",
   "metadata": {},
   "outputs": [
    {
     "data": {
      "text/plain": [
       "54"
      ]
     },
     "execution_count": 42,
     "metadata": {},
     "output_type": "execute_result"
    }
   ],
   "source": [
    "li[-1]"
   ]
  },
  {
   "cell_type": "code",
   "execution_count": 43,
   "id": "f9fbba6e",
   "metadata": {},
   "outputs": [
    {
     "data": {
      "text/plain": [
       "[3, 4, 5, 200]"
      ]
     },
     "execution_count": 43,
     "metadata": {},
     "output_type": "execute_result"
    }
   ],
   "source": [
    "li[2:6]"
   ]
  },
  {
   "cell_type": "code",
   "execution_count": 44,
   "id": "f576548e",
   "metadata": {},
   "outputs": [
    {
     "data": {
      "text/plain": [
       "[9, 3, 4]"
      ]
     },
     "execution_count": 44,
     "metadata": {},
     "output_type": "execute_result"
    }
   ],
   "source": [
    "li[-6:-3]"
   ]
  },
  {
   "cell_type": "code",
   "execution_count": 45,
   "id": "cfda3d18",
   "metadata": {},
   "outputs": [
    {
     "data": {
      "text/plain": [
       "[1, 9, 3, 4, 5, 200, 54]"
      ]
     },
     "execution_count": 45,
     "metadata": {},
     "output_type": "execute_result"
    }
   ],
   "source": [
    "li"
   ]
  },
  {
   "cell_type": "code",
   "execution_count": 48,
   "id": "a843590a",
   "metadata": {},
   "outputs": [],
   "source": [
    "li.append('python')"
   ]
  },
  {
   "cell_type": "code",
   "execution_count": 64,
   "id": "ad999169",
   "metadata": {},
   "outputs": [
    {
     "data": {
      "text/plain": [
       "[1, 9, 3, 4, 5, 200, 54, 'python']"
      ]
     },
     "execution_count": 64,
     "metadata": {},
     "output_type": "execute_result"
    }
   ],
   "source": [
    "li"
   ]
  },
  {
   "cell_type": "code",
   "execution_count": 66,
   "id": "7ca4d5d4",
   "metadata": {},
   "outputs": [],
   "source": [
    "li.insert(4,'science')"
   ]
  },
  {
   "cell_type": "code",
   "execution_count": 67,
   "id": "a44514da",
   "metadata": {},
   "outputs": [
    {
     "data": {
      "text/plain": [
       "[1, 9, 3, 4, 'science', 5, 200, 54, 'python']"
      ]
     },
     "execution_count": 67,
     "metadata": {},
     "output_type": "execute_result"
    }
   ],
   "source": [
    "li"
   ]
  },
  {
   "cell_type": "code",
   "execution_count": 68,
   "id": "50cce422",
   "metadata": {},
   "outputs": [],
   "source": [
    "li.insert(0,'science')"
   ]
  },
  {
   "cell_type": "code",
   "execution_count": 69,
   "id": "935f8e23",
   "metadata": {},
   "outputs": [
    {
     "data": {
      "text/plain": [
       "['science', 1, 9, 3, 4, 'science', 5, 200, 54, 'python']"
      ]
     },
     "execution_count": 69,
     "metadata": {},
     "output_type": "execute_result"
    }
   ],
   "source": [
    "li"
   ]
  },
  {
   "cell_type": "code",
   "execution_count": 70,
   "id": "26167599",
   "metadata": {},
   "outputs": [],
   "source": [
    "li.remove('science')"
   ]
  },
  {
   "cell_type": "code",
   "execution_count": 71,
   "id": "dc14a109",
   "metadata": {},
   "outputs": [
    {
     "data": {
      "text/plain": [
       "[1, 9, 3, 4, 'science', 5, 200, 54, 'python']"
      ]
     },
     "execution_count": 71,
     "metadata": {},
     "output_type": "execute_result"
    }
   ],
   "source": [
    "li"
   ]
  },
  {
   "cell_type": "code",
   "execution_count": 72,
   "id": "d7aa0372",
   "metadata": {},
   "outputs": [],
   "source": [
    "li.remove('science')"
   ]
  },
  {
   "cell_type": "code",
   "execution_count": 73,
   "id": "d8d3cf42",
   "metadata": {},
   "outputs": [
    {
     "data": {
      "text/plain": [
       "[1, 9, 3, 4, 5, 200, 54, 'python']"
      ]
     },
     "execution_count": 73,
     "metadata": {},
     "output_type": "execute_result"
    }
   ],
   "source": [
    "li"
   ]
  },
  {
   "cell_type": "code",
   "execution_count": 76,
   "id": "323e4d74",
   "metadata": {},
   "outputs": [
    {
     "data": {
      "text/plain": [
       "{1, 200, 3, 4, 5, 54, 9, 'python'}"
      ]
     },
     "execution_count": 76,
     "metadata": {},
     "output_type": "execute_result"
    }
   ],
   "source": [
    "set(li) #creat set"
   ]
  },
  {
   "cell_type": "code",
   "execution_count": 79,
   "id": "a5da7cf3",
   "metadata": {},
   "outputs": [],
   "source": [
    "max_number = max('200')"
   ]
  },
  {
   "cell_type": "code",
   "execution_count": 80,
   "id": "e823cd99",
   "metadata": {},
   "outputs": [
    {
     "name": "stdout",
     "output_type": "stream",
     "text": [
      "[1, 9, 3, 4, 5, 200, 54, 'python']\n"
     ]
    }
   ],
   "source": [
    "print([1, 9, 3, 4, 5, 200, 54, 'python'])#without duplicate number"
   ]
  },
  {
   "cell_type": "code",
   "execution_count": 82,
   "id": "b80945ec",
   "metadata": {},
   "outputs": [
    {
     "name": "stdout",
     "output_type": "stream",
     "text": [
      "max_number 200\n"
     ]
    }
   ],
   "source": [
    "print('max_number',200)"
   ]
  },
  {
   "cell_type": "markdown",
   "id": "9796e656",
   "metadata": {},
   "source": [
    "# QN:15. Rename the key of a dictionary.\n",
    "Dict = { \"name\": \"Shakil\", \"age\":27, \"city\": “Berlin”, \"country\": \"Germany\" }\n",
    "#Write a program to rename a key ‘country’ to a ‘region’ in the following dictionary."
   ]
  },
  {
   "cell_type": "code",
   "execution_count": 31,
   "id": "524d68d1",
   "metadata": {},
   "outputs": [],
   "source": [
    "Dict = { \"name\": \"Shakil\", \"age\":27, \"city\": 'Berlin', \"country\": \"Germany\" }"
   ]
  },
  {
   "cell_type": "code",
   "execution_count": 35,
   "id": "614f8ed5",
   "metadata": {},
   "outputs": [],
   "source": [
    "Dict ['region'] =Dict.pop ('country')"
   ]
  },
  {
   "cell_type": "code",
   "execution_count": 36,
   "id": "b073da47",
   "metadata": {},
   "outputs": [
    {
     "name": "stdout",
     "output_type": "stream",
     "text": [
      "{'name': 'Shakil', 'age': 27, 'city': 'Berlin', 'region': 'Germany'}\n"
     ]
    }
   ],
   "source": [
    "print(Dict)"
   ]
  },
  {
   "cell_type": "code",
   "execution_count": null,
   "id": "9012f17e",
   "metadata": {},
   "outputs": [],
   "source": []
  },
  {
   "cell_type": "markdown",
   "id": "696d69a9",
   "metadata": {},
   "source": [
    "# Qn:16.Test you Basic Python skills "
   ]
  },
  {
   "cell_type": "code",
   "execution_count": null,
   "id": "d57bb24a",
   "metadata": {},
   "outputs": [],
   "source": [
    "#Creating a data frame using the list.\n",
    "num = [10,100,300] (column name is number)"
   ]
  },
  {
   "cell_type": "code",
   "execution_count": 2,
   "id": "97cd71a6",
   "metadata": {},
   "outputs": [],
   "source": [
    "num = [10,100,300]"
   ]
  },
  {
   "cell_type": "code",
   "execution_count": 3,
   "id": "c92aef06",
   "metadata": {},
   "outputs": [],
   "source": [
    "import pandas as pd"
   ]
  },
  {
   "cell_type": "code",
   "execution_count": 8,
   "id": "29d1fd78",
   "metadata": {},
   "outputs": [],
   "source": [
    "dif=pd.DataFrame({\"number\": num })"
   ]
  },
  {
   "cell_type": "code",
   "execution_count": 9,
   "id": "621d7438",
   "metadata": {},
   "outputs": [
    {
     "data": {
      "text/plain": [
       "[10, 100, 300]"
      ]
     },
     "execution_count": 9,
     "metadata": {},
     "output_type": "execute_result"
    }
   ],
   "source": [
    "num"
   ]
  },
  {
   "cell_type": "code",
   "execution_count": null,
   "id": "69d1d451",
   "metadata": {},
   "outputs": [],
   "source": [
    "#exmaple as:\n"
   ]
  },
  {
   "cell_type": "markdown",
   "id": "7e14bbe0",
   "metadata": {},
   "source": [
    "# Qn:17. Change the value of a key in a given dictionary.\n",
    "#Write a Python program to change ‘age’ to 28 in the following dictionary."
   ]
  },
  {
   "cell_type": "code",
   "execution_count": 21,
   "id": "94a09f08",
   "metadata": {},
   "outputs": [],
   "source": [
    "Dict = { \"name\": \"Shakil\", \"age\":27, \"city\": 'Berlin', \"country\": \"Germany\" }"
   ]
  },
  {
   "cell_type": "code",
   "execution_count": 27,
   "id": "882774b8",
   "metadata": {},
   "outputs": [],
   "source": [
    "Dict ['age']= 28"
   ]
  },
  {
   "cell_type": "code",
   "execution_count": 28,
   "id": "37f33ca5",
   "metadata": {},
   "outputs": [
    {
     "name": "stdout",
     "output_type": "stream",
     "text": [
      "{'name': 'Shakil', 'age': 28, 'city': 'Berlin', 'country': 'Germany'}\n"
     ]
    }
   ],
   "source": [
    "print(Dict)"
   ]
  }
 ],
 "metadata": {
  "kernelspec": {
   "display_name": "Python 3 (ipykernel)",
   "language": "python",
   "name": "python3"
  },
  "language_info": {
   "codemirror_mode": {
    "name": "ipython",
    "version": 3
   },
   "file_extension": ".py",
   "mimetype": "text/x-python",
   "name": "python",
   "nbconvert_exporter": "python",
   "pygments_lexer": "ipython3",
   "version": "3.9.13"
  }
 },
 "nbformat": 4,
 "nbformat_minor": 5
}
